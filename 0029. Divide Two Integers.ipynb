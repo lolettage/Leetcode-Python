{
 "cells": [
  {
   "cell_type": "markdown",
   "metadata": {},
   "source": [
    "# 29. Divide Two Integers"
   ]
  },
  {
   "cell_type": "markdown",
   "metadata": {},
   "source": [
    "## Description"
   ]
  },
  {
   "cell_type": "markdown",
   "metadata": {},
   "source": [
    "<br>Given two integers dividend and divisor, divide two integers without using multiplication, division and mod operator.\n",
    "\n",
    "<br>Return the quotient after dividing dividend by divisor.\n",
    "\n",
    "<br>The integer division should truncate toward zero."
   ]
  },
  {
   "cell_type": "markdown",
   "metadata": {},
   "source": [
    "### Example 1"
   ]
  },
  {
   "cell_type": "markdown",
   "metadata": {},
   "source": [
    "<br>Input: dividend = 10, divisor = 3\n",
    "<br>Output: 3"
   ]
  },
  {
   "cell_type": "markdown",
   "metadata": {},
   "source": [
    "### Example 2"
   ]
  },
  {
   "cell_type": "markdown",
   "metadata": {},
   "source": [
    "<br>Input: dividend = 7, divisor = -3\n",
    "<br>Output: -2"
   ]
  },
  {
   "cell_type": "markdown",
   "metadata": {},
   "source": [
    "### Note"
   ]
  },
  {
   "cell_type": "markdown",
   "metadata": {},
   "source": [
    "<br>&nbsp;&nbsp;&nbsp;&nbsp;Both dividend and divisor will be 32-bit signed integers.\n",
    "<br>&nbsp;&nbsp;&nbsp;&nbsp;The divisor will never be 0.\n",
    "<br>&nbsp;&nbsp;&nbsp;&nbsp;Assume we are dealing with an environment which could only store integers within the 32-bit signed integer range: [−231,  231 − 1]. For the purpose of this \n",
    "<br>&nbsp;&nbsp;&nbsp;&nbsp;problem, assume that your function returns 231 − 1 when the division result overflows."
   ]
  },
  {
   "cell_type": "code",
   "execution_count": null,
   "metadata": {},
   "outputs": [],
   "source": [
    "class Solution:\n",
    "    def divide(self, dividend: int, divisor: int) -> int:\n",
    "        res = 0\n",
    "        sign =  1 if dividend ^ divisor >= 0 else -1\n",
    "        dividend = abs(dividend)\n",
    "        divisor = abs(divisor)\n",
    "        while dividend >= divisor:\n",
    "            tmp, i = divisor, 1\n",
    "            while dividend >= tmp:\n",
    "                dividend -= tmp\n",
    "                res += i\n",
    "                i <<= 1\n",
    "                tmp <<= 1\n",
    "        res = res * sign \n",
    "        return min(max(-2147483648, res), 2147483647)"
   ]
  }
 ],
 "metadata": {
  "kernelspec": {
   "display_name": "Python 3",
   "language": "python",
   "name": "python3"
  },
  "language_info": {
   "codemirror_mode": {
    "name": "ipython",
    "version": 3
   },
   "file_extension": ".py",
   "mimetype": "text/x-python",
   "name": "python",
   "nbconvert_exporter": "python",
   "pygments_lexer": "ipython3",
   "version": "3.6.4"
  }
 },
 "nbformat": 4,
 "nbformat_minor": 2
}
