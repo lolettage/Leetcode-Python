{
 "cells": [
  {
   "cell_type": "markdown",
   "metadata": {},
   "source": [
    "# 4. Median of Two Sorted Arrays\n",
    "\n",
    "## Description\n",
    "\n",
    ">There are two sorted arrays **nums1** and **nums2** of size m and n respectively.\n",
    "\n",
    ">Find the median of the two sorted arrays. The overall run time complexity should be O(log (m+n)).\n",
    "\n",
    ">You may assume  **nums1** and **nums2** cannot be both empty.\n",
    "\n",
    "### Example 1\n",
    "\n",
    ">nums1 = [1, 3]  \n",
    "nums2 = [2]\n",
    "\n",
    ">The median is 2.0\n",
    "\n",
    "### Example 2\n",
    "\n",
    ">nums1 = [1, 2]  \n",
    "nums2 = [3, 4]\n",
    "\n",
    ">The median is (2 + 3)/2 = 2.5"
   ]
  },
  {
   "cell_type": "code",
   "execution_count": null,
   "metadata": {},
   "outputs": [],
   "source": [
    "# 复杂度非 O(log(m+n))\n",
    "class Solution:\n",
    "    def findMedianSortedArrays(self, nums1: List[int], nums2: List[int]) -> float:\n",
    "        t = nums1 + nums2\n",
    "        t.sort()\n",
    "        if len(t) % 2 == 1:\n",
    "            return t[len(t) // 2]\n",
    "        elif len(t) == 0:\n",
    "            return False\n",
    "        else:\n",
    "            return (t[len(t) // 2] + t[len(t) // 2 - 1]) / 2.0"
   ]
  }
 ],
 "metadata": {
  "kernelspec": {
   "display_name": "Python 3",
   "language": "python",
   "name": "python3"
  },
  "language_info": {
   "codemirror_mode": {
    "name": "ipython",
    "version": 3
   },
   "file_extension": ".py",
   "mimetype": "text/x-python",
   "name": "python",
   "nbconvert_exporter": "python",
   "pygments_lexer": "ipython3",
   "version": "3.6.4"
  }
 },
 "nbformat": 4,
 "nbformat_minor": 2
}
