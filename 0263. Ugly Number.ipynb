{
 "cells": [
  {
   "cell_type": "markdown",
   "metadata": {},
   "source": [
    "# 263. Ugly Number"
   ]
  },
  {
   "cell_type": "markdown",
   "metadata": {},
   "source": [
    "## Description"
   ]
  },
  {
   "cell_type": "markdown",
   "metadata": {},
   "source": [
    "<br>Write a program to check whether a given number is an ugly number.\n",
    "\n",
    "<br>Ugly numbers are positive numbers whose prime factors only include 2, 3, 5."
   ]
  },
  {
   "cell_type": "markdown",
   "metadata": {},
   "source": [
    "### Example 1"
   ]
  },
  {
   "cell_type": "markdown",
   "metadata": {},
   "source": [
    "<br>Input: 6\n",
    "<br>Output: true\n",
    "<br>Explanation: 6 = 2 × 3"
   ]
  },
  {
   "cell_type": "markdown",
   "metadata": {},
   "source": [
    "### Example 2"
   ]
  },
  {
   "cell_type": "markdown",
   "metadata": {},
   "source": [
    "<br>Input: 8\n",
    "<br>Output: true\n",
    "<br>Explanation: 8 = 2 × 2 × 2"
   ]
  },
  {
   "cell_type": "markdown",
   "metadata": {},
   "source": [
    "### Example 3"
   ]
  },
  {
   "cell_type": "markdown",
   "metadata": {},
   "source": [
    "<br>Input: 14\n",
    "<br>Output: false \n",
    "<br>Explanation: 14 is not ugly since it includes another prime factor 7."
   ]
  },
  {
   "cell_type": "markdown",
   "metadata": {},
   "source": [
    "### Note"
   ]
  },
  {
   "cell_type": "markdown",
   "metadata": {},
   "source": [
    "<br>1. 1 is typically treated as an ugly number.\n",
    "<br>2. Input is within the 32-bit signed integer range: [−2^31,  2^31 − 1]."
   ]
  },
  {
   "cell_type": "code",
   "execution_count": null,
   "metadata": {},
   "outputs": [],
   "source": [
    "class Solution:\n",
    "    def isUgly(self, num):\n",
    "        \"\"\"\n",
    "        :type num: int\n",
    "        :rtype: bool\n",
    "        \"\"\"\n",
    "        b = 1\n",
    "        if num <= 0:\n",
    "            b = 0\n",
    "        while num > 1:\n",
    "            if num % 2 == 0:\n",
    "                num = num / 2\n",
    "            elif num % 3 == 0:\n",
    "                num = num / 3\n",
    "            elif num % 5 == 0:\n",
    "                num = num / 5\n",
    "            else:\n",
    "                num = 1\n",
    "                b = 0\n",
    "        return b == 1"
   ]
  }
 ],
 "metadata": {
  "kernelspec": {
   "display_name": "Python 3",
   "language": "python",
   "name": "python3"
  },
  "language_info": {
   "codemirror_mode": {
    "name": "ipython",
    "version": 3
   },
   "file_extension": ".py",
   "mimetype": "text/x-python",
   "name": "python",
   "nbconvert_exporter": "python",
   "pygments_lexer": "ipython3",
   "version": "3.6.4"
  }
 },
 "nbformat": 4,
 "nbformat_minor": 2
}
