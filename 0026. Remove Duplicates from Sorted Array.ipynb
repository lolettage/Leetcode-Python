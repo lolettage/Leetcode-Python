{
 "cells": [
  {
   "cell_type": "markdown",
   "metadata": {},
   "source": [
    "# 26. Remove Duplicates from Sorted Array"
   ]
  },
  {
   "cell_type": "markdown",
   "metadata": {},
   "source": [
    "## Description"
   ]
  },
  {
   "cell_type": "markdown",
   "metadata": {},
   "source": [
    "<br>Given a sorted array nums, remove the duplicates in-place such that each element appear only once and return the new length.\n",
    "\n",
    "<br>Do not allocate extra space for another array, you must do this by modifying the input array in-place with O(1) extra memory."
   ]
  },
  {
   "cell_type": "markdown",
   "metadata": {},
   "source": [
    "### Example 1"
   ]
  },
  {
   "cell_type": "markdown",
   "metadata": {},
   "source": [
    "<br>Given nums = [1,1,2],\n",
    "\n",
    "<br>Your function should return length = 2, with the first two elements of nums being 1 and 2 respectively.\n",
    "\n",
    "<br>It doesn't matter what you leave beyond the returned length."
   ]
  },
  {
   "cell_type": "markdown",
   "metadata": {},
   "source": [
    "### Example 2"
   ]
  },
  {
   "cell_type": "markdown",
   "metadata": {},
   "source": [
    "<br>Given nums = [0,0,1,1,1,2,2,3,3,4],\n",
    "\n",
    "<br>Your function should return length = 5, with the first five elements of nums being modified to 0, 1, 2, 3, and 4 respectively.\n",
    "\n",
    "<br>It doesn't matter what values are set beyond the returned length."
   ]
  },
  {
   "cell_type": "markdown",
   "metadata": {},
   "source": [
    "### Clarification"
   ]
  },
  {
   "cell_type": "markdown",
   "metadata": {},
   "source": [
    "<br>Confused why the returned value is an integer but your answer is an array?\n",
    "\n",
    "<br>Note that the input array is passed in by reference, which means modification to the input array will be known to the caller as well.\n",
    "\n",
    "<br>Internally you can think of this:"
   ]
  },
  {
   "cell_type": "markdown",
   "metadata": {},
   "source": [
    "<br>// nums is passed in by reference. (i.e., without making a copy)\n",
    "<br>int len = removeDuplicates(nums);\n",
    "\n",
    "<br>// any modification to nums in your function would be known by the caller.\n",
    "<br>// using the length returned by your function, it prints the first len elements.\n",
    "<br>for (int i = 0; i < len; i++) {\n",
    "<br>&nbsp;&nbsp;&nbsp;&nbsp;&nbsp;&nbsp;&nbsp;&nbsp;print(nums[i]);\n",
    "<br>}"
   ]
  },
  {
   "cell_type": "code",
   "execution_count": null,
   "metadata": {},
   "outputs": [],
   "source": [
    "class Solution(object):\n",
    "    def removeDuplicates(self, nums):\n",
    "        \"\"\"\n",
    "        :type nums: List[int]\n",
    "        :rtype: int\n",
    "        \"\"\"\n",
    "        nums[:] = sorted(list(set(nums)))\n",
    "        return len(nums)"
   ]
  },
  {
   "cell_type": "code",
   "execution_count": null,
   "metadata": {},
   "outputs": [],
   "source": [
    "class Solution(object):\n",
    "    def removeDuplicates(self, nums):\n",
    "        \"\"\"\n",
    "        :type nums: List[int]\n",
    "        :rtype: int\n",
    "        \"\"\"\n",
    "        for i in reversed(range(len(nums)-1)):\n",
    "            if nums[i] == nums[i + 1]:\n",
    "                nums.pop(i + 1)\n",
    "        return len(nums)"
   ]
  }
 ],
 "metadata": {
  "kernelspec": {
   "display_name": "Python 3",
   "language": "python",
   "name": "python3"
  },
  "language_info": {
   "codemirror_mode": {
    "name": "ipython",
    "version": 3
   },
   "file_extension": ".py",
   "mimetype": "text/x-python",
   "name": "python",
   "nbconvert_exporter": "python",
   "pygments_lexer": "ipython3",
   "version": "3.6.4"
  }
 },
 "nbformat": 4,
 "nbformat_minor": 2
}
