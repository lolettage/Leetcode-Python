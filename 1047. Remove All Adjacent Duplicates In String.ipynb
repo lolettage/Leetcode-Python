{
 "cells": [
  {
   "cell_type": "markdown",
   "metadata": {},
   "source": [
    "# 1047. Remove All Adjacent Duplicates In String"
   ]
  },
  {
   "cell_type": "markdown",
   "metadata": {},
   "source": [
    "## Description"
   ]
  },
  {
   "cell_type": "markdown",
   "metadata": {},
   "source": [
    "<br>Given a string S of lowercase letters, a duplicate removal consists of choosing two adjacent and equal letters, and removing them.\n",
    "\n",
    "<br>We repeatedly make duplicate removals on S until we no longer can.\n",
    "\n",
    "<br>Return the final string after all such duplicate removals have been made.  It is guaranteed the answer is unique."
   ]
  },
  {
   "cell_type": "markdown",
   "metadata": {},
   "source": [
    "### Example"
   ]
  },
  {
   "cell_type": "markdown",
   "metadata": {},
   "source": [
    "<br>Input: \"abbaca\"\n",
    "<br>Output: \"ca\"\n",
    "<br>Explanation: \n",
    "<br>For example, in \"abbaca\" we could remove \"bb\" since the letters are adjacent and equal, and this is the only possible move.  The result of this move is that the string is \"aaca\", of which only \"aa\" is possible, so the final string is \"ca\"."
   ]
  },
  {
   "cell_type": "code",
   "execution_count": null,
   "metadata": {},
   "outputs": [],
   "source": [
    "class Solution:\n",
    "    def removeDuplicates(self, S: str) -> str:\n",
    "        pan = True\n",
    "        i = 0\n",
    "        while pan:\n",
    "            if i < len(S) - 1:\n",
    "                if S[i] == S[i + 1]:\n",
    "                    S = S[:i] + S[i + 2:]\n",
    "                    if i > 0:\n",
    "                        i = i - 1\n",
    "                else:\n",
    "                    i = i + 1\n",
    "            elif i == len(S) - 1 or len(S) <= 1:\n",
    "                pan = False\n",
    "        return S"
   ]
  },
  {
   "cell_type": "code",
   "execution_count": null,
   "metadata": {},
   "outputs": [],
   "source": [
    "class Solution:\n",
    "    def removeDuplicates(self, S: str) -> str:\n",
    "        stack = []\n",
    "        for char in S:\n",
    "            if stack and char == stack[-1]:\n",
    "                stack.pop()\n",
    "            else:\n",
    "                stack.append(char)\n",
    "\n",
    "        return ''.join(stack)"
   ]
  }
 ],
 "metadata": {
  "kernelspec": {
   "display_name": "Python 3",
   "language": "python",
   "name": "python3"
  },
  "language_info": {
   "codemirror_mode": {
    "name": "ipython",
    "version": 3
   },
   "file_extension": ".py",
   "mimetype": "text/x-python",
   "name": "python",
   "nbconvert_exporter": "python",
   "pygments_lexer": "ipython3",
   "version": "3.6.4"
  }
 },
 "nbformat": 4,
 "nbformat_minor": 2
}
