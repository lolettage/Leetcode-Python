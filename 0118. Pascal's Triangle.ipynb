{
 "cells": [
  {
   "cell_type": "markdown",
   "metadata": {},
   "source": [
    "# 118. Pascal's Triangle"
   ]
  },
  {
   "cell_type": "markdown",
   "metadata": {},
   "source": [
    "## Description"
   ]
  },
  {
   "cell_type": "markdown",
   "metadata": {},
   "source": [
    "<br>Given a non-negative integer numRows, generate the first numRows of Pascal's triangle.\n",
    "\n",
    "<br><img src=\"./0118.gif\", width=200, heigth=100>\n",
    "\n",
    "<br>In Pascal's triangle, each number is the sum of the two numbers directly above it."
   ]
  },
  {
   "cell_type": "markdown",
   "metadata": {},
   "source": [
    "### Example"
   ]
  },
  {
   "cell_type": "markdown",
   "metadata": {},
   "source": [
    "<br>Input: 5\n",
    "<br>Output:\n",
    "<br>[\n",
    "<br>&nbsp;&nbsp;&nbsp;&nbsp;&nbsp;[1],\n",
    "<br>&nbsp;&nbsp;&nbsp;&nbsp;[1,1],\n",
    "<br>&nbsp;&nbsp;&nbsp;[1,2,1],\n",
    "<br>&nbsp;&nbsp;[1,3,3,1],\n",
    "<br>&nbsp;[1,4,6,4,1]\n",
    "<br>]"
   ]
  },
  {
   "cell_type": "code",
   "execution_count": null,
   "metadata": {},
   "outputs": [],
   "source": [
    "class Solution:\n",
    "    def generate(self, numRows):\n",
    "        \"\"\"\n",
    "        :type numRows: int\n",
    "        :rtype: List[List[int]]\n",
    "        \"\"\"\n",
    "        zuizhong = []\n",
    "        c = 0\n",
    "        for i in range(numRows):\n",
    "            if i == 0:\n",
    "                t = [1]\n",
    "                zuizhong.append(t)\n",
    "            elif i == 1:\n",
    "                t = [1, 1]\n",
    "                zuizhong.append(t)\n",
    "            else:\n",
    "                t = []\n",
    "                t.append(1)\n",
    "                for j in range(1, i):\n",
    "                    c = zuizhong[i - 1][j - 1] + zuizhong[i - 1][j]\n",
    "                    t.append(c)\n",
    "                t.append(1)\n",
    "                zuizhong.append(t)\n",
    "        return zuizhong"
   ]
  },
  {
   "cell_type": "code",
   "execution_count": 2,
   "metadata": {},
   "outputs": [],
   "source": [
    "class Solution:\n",
    "    def generate(self, numRows):\n",
    "        \"\"\"\n",
    "        :type numRows: int\n",
    "        :rtype: List[List[int]]\n",
    "        \"\"\"\n",
    "        rows = [[1] * i for i in range(1, numRows + 1)]\n",
    "        for i in range(1, numRows):\n",
    "            j = 0\n",
    "            while j < len(rows[i - 1]) - 1:\n",
    "                rows[i][j + 1] = rows[i - 1][j] + rows[i - 1][j + 1]\n",
    "                j += 1\n",
    "        return rows"
   ]
  },
  {
   "cell_type": "code",
   "execution_count": null,
   "metadata": {},
   "outputs": [],
   "source": [
    "class Solution:\n",
    "    def generate(self, numRows):\n",
    "        \"\"\"\n",
    "        :type numRows: int\n",
    "        :rtype: List[List[int]]\n",
    "        \"\"\"\n",
    "        if numRows <= 0:\n",
    "            return []\n",
    "        if numRows == 1:\n",
    "            return [[1]]\n",
    "        if numRows == 2:\n",
    "            return [[1],[1,1]]\n",
    "        \n",
    "        tri = [[1],[1,1]]\n",
    "        \n",
    "        for i in range(2, numRows):\n",
    "            new_row = [1]\n",
    "            for j in range(1,i):\n",
    "                new_row.append(tri[i - 1][j - 1]+tri[i - 1][j])\n",
    "            new_row.append(1)\n",
    "            tri.append(new_row)\n",
    "            \n",
    "        return tri"
   ]
  }
 ],
 "metadata": {
  "kernelspec": {
   "display_name": "Python 3",
   "language": "python",
   "name": "python3"
  },
  "language_info": {
   "codemirror_mode": {
    "name": "ipython",
    "version": 3
   },
   "file_extension": ".py",
   "mimetype": "text/x-python",
   "name": "python",
   "nbconvert_exporter": "python",
   "pygments_lexer": "ipython3",
   "version": "3.6.4"
  }
 },
 "nbformat": 4,
 "nbformat_minor": 2
}
