{
 "cells": [
  {
   "cell_type": "markdown",
   "metadata": {},
   "source": [
    "# 171. Excel Sheet Column Number"
   ]
  },
  {
   "cell_type": "markdown",
   "metadata": {},
   "source": [
    "## Description"
   ]
  },
  {
   "cell_type": "markdown",
   "metadata": {},
   "source": [
    "<br>Given a column title as appear in an Excel sheet, return its corresponding column number.\n",
    "\n",
    "<br>For example:\n",
    "\n",
    "<br>&nbsp;&nbsp;A -> 1\n",
    "<br>&nbsp;&nbsp;B -> 2\n",
    "<br>&nbsp;&nbsp;C -> 3\n",
    "<br>&nbsp;&nbsp;...\n",
    "<br>&nbsp;&nbsp;Z -> 26\n",
    "<br>&nbsp;&nbsp;AA -> 27\n",
    "<br>&nbsp;&nbsp;AB -> 28 \n",
    "<br>&nbsp;&nbsp;..."
   ]
  },
  {
   "cell_type": "markdown",
   "metadata": {},
   "source": [
    "### Example 1"
   ]
  },
  {
   "cell_type": "markdown",
   "metadata": {},
   "source": [
    "<br>Input: \"A\"\n",
    "<br>Output: 1"
   ]
  },
  {
   "cell_type": "markdown",
   "metadata": {},
   "source": [
    "### Example 2"
   ]
  },
  {
   "cell_type": "markdown",
   "metadata": {},
   "source": [
    "<br>Input: \"AB\"\n",
    "<br>Output: 28"
   ]
  },
  {
   "cell_type": "markdown",
   "metadata": {},
   "source": [
    "### Example 3"
   ]
  },
  {
   "cell_type": "markdown",
   "metadata": {},
   "source": [
    "<br>Input: \"ZY\"\n",
    "<br>Output: 701"
   ]
  },
  {
   "cell_type": "code",
   "execution_count": null,
   "metadata": {},
   "outputs": [],
   "source": [
    "class Solution:\n",
    "    def titleToNumber(self, s: str) -> int:\n",
    "        t = ['A','B','C','D','E','F','G','H','I','J','K','L','M','N','O','P','Q','R','S','T','U','V','W','X','Y','Z']\n",
    "        bb = 0\n",
    "        for i in range(len(s)):\n",
    "            bb = bb + 26 ** (len(s) - i - 1) * (t.index(s[i]) + 1)\n",
    "        return bb"
   ]
  }
 ],
 "metadata": {
  "kernelspec": {
   "display_name": "Python 3",
   "language": "python",
   "name": "python3"
  },
  "language_info": {
   "codemirror_mode": {
    "name": "ipython",
    "version": 3
   },
   "file_extension": ".py",
   "mimetype": "text/x-python",
   "name": "python",
   "nbconvert_exporter": "python",
   "pygments_lexer": "ipython3",
   "version": "3.6.4"
  }
 },
 "nbformat": 4,
 "nbformat_minor": 2
}
