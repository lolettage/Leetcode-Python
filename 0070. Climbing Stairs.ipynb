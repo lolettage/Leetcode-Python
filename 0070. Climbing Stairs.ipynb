{
 "cells": [
  {
   "cell_type": "markdown",
   "metadata": {},
   "source": [
    "# 70. Climbing Stairs"
   ]
  },
  {
   "cell_type": "markdown",
   "metadata": {},
   "source": [
    "## Description"
   ]
  },
  {
   "cell_type": "markdown",
   "metadata": {},
   "source": [
    "<br>You are climbing a stair case. It takes n steps to reach to the top.\n",
    "\n",
    "<br>Each time you can either climb 1 or 2 steps. In how many distinct ways can you climb to the top?"
   ]
  },
  {
   "cell_type": "markdown",
   "metadata": {},
   "source": [
    "### Note"
   ]
  },
  {
   "cell_type": "markdown",
   "metadata": {},
   "source": [
    "<br>Given n will be a positive integer."
   ]
  },
  {
   "cell_type": "markdown",
   "metadata": {},
   "source": [
    "### Example 1"
   ]
  },
  {
   "cell_type": "markdown",
   "metadata": {},
   "source": [
    "<br>Input: 2\n",
    "<br>Output: 2\n",
    "<br>Explanation: There are two ways to climb to the top.\n",
    "<br>1. 1 step + 1 step\n",
    "<br>2. 2 steps"
   ]
  },
  {
   "cell_type": "markdown",
   "metadata": {},
   "source": [
    "### Example 2"
   ]
  },
  {
   "cell_type": "markdown",
   "metadata": {},
   "source": [
    "<br>Input: 3\n",
    "<br>Output: 3\n",
    "<br>Explanation: There are three ways to climb to the top.\n",
    "<br>1. 1 step + 1 step + 1 step\n",
    "<br>2. 1 step + 2 steps\n",
    "<br>3. 2 steps + 1 step"
   ]
  },
  {
   "cell_type": "code",
   "execution_count": null,
   "metadata": {},
   "outputs": [],
   "source": [
    "class Solution:\n",
    "    def climbStairs(self, n: int) -> int:\n",
    "        t = []\n",
    "        a, b = 1, 2\n",
    "        while len(t) < n:\n",
    "            t.append(a)\n",
    "            a, b = b, a + b\n",
    "        return t[-1]"
   ]
  },
  {
   "cell_type": "code",
   "execution_count": null,
   "metadata": {},
   "outputs": [],
   "source": [
    "class Solution:\n",
    "    def climbStairs(self, n: int) -> int:\n",
    "        a, b = 1,2\n",
    "        if n == 1:\n",
    "            return a\n",
    "        elif n == 2:\n",
    "            return b\n",
    "        else:\n",
    "            for i in range(2,n):\n",
    "                a, b = b, a + b\n",
    "            return b"
   ]
  }
 ],
 "metadata": {
  "kernelspec": {
   "display_name": "Python 3",
   "language": "python",
   "name": "python3"
  },
  "language_info": {
   "codemirror_mode": {
    "name": "ipython",
    "version": 3
   },
   "file_extension": ".py",
   "mimetype": "text/x-python",
   "name": "python",
   "nbconvert_exporter": "python",
   "pygments_lexer": "ipython3",
   "version": "3.6.4"
  }
 },
 "nbformat": 4,
 "nbformat_minor": 2
}
