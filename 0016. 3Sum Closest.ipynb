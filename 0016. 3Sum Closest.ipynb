{
 "cells": [
  {
   "cell_type": "markdown",
   "metadata": {},
   "source": [
    "# 16. 3Sum Closest"
   ]
  },
  {
   "cell_type": "markdown",
   "metadata": {},
   "source": [
    "## Description"
   ]
  },
  {
   "cell_type": "markdown",
   "metadata": {},
   "source": [
    "<br>Given an array nums of n integers and an integer target, find three integers in nums such that the sum is closest to target. Return the sum of the three integers. You may assume that each input would have exactly one solution."
   ]
  },
  {
   "cell_type": "markdown",
   "metadata": {},
   "source": [
    "### Example"
   ]
  },
  {
   "cell_type": "markdown",
   "metadata": {},
   "source": [
    "<br>Given array nums = [-1, 2, 1, -4], and target = 1.\n",
    "\n",
    "<br>The sum that is closest to the target is 2. (-1 + 2 + 1 = 2)."
   ]
  },
  {
   "cell_type": "code",
   "execution_count": null,
   "metadata": {},
   "outputs": [],
   "source": [
    "class Solution:\n",
    "    def threeSumClosest(self, nums: List[int], target: int) -> int:\n",
    "        n = len(nums)\n",
    "        tt = []\n",
    "        nums.sort()\n",
    "        s = 10000\n",
    "        z = target\n",
    "        for i in range(n):\n",
    "            if i > 0 and nums[i] == nums[i - 1]:   \n",
    "                continue\n",
    "            l, r = i + 1, n - 1\n",
    "            while l < r:\n",
    "                tmp = nums[i] + nums[l] + nums[r]\n",
    "                if tmp == target:\n",
    "                    s = 0\n",
    "                    z = target\n",
    "                    l += 1\n",
    "                    r -= 1\n",
    "                elif tmp > target:\n",
    "                    if abs(tmp - target) < s:\n",
    "                        s = abs(tmp - target)\n",
    "                        z = tmp\n",
    "                    r -= 1\n",
    "                else:\n",
    "                    if abs(tmp - target) < s:\n",
    "                        s = abs(tmp - target)\n",
    "                        z = tmp\n",
    "                    l += 1\n",
    "        return z"
   ]
  },
  {
   "cell_type": "code",
   "execution_count": null,
   "metadata": {},
   "outputs": [],
   "source": [
    "class Solution:\n",
    "    def threeSumClosest(self, nums: List[int], target: int) -> int:\n",
    "        nums, r, end = sorted(nums), float('inf'), len(nums) - 1\n",
    "        for c in range(len(nums) - 2):\n",
    "            i, j = max(c + 1, bisect.bisect_left(nums, target - nums[end] - nums[c], c + 1, end) - 1), end\n",
    "            while r != target and i < j:\n",
    "                s = nums[c] + nums[i] + nums[j]\n",
    "                r, i, j = min(r, s, key=lambda x: abs(x - target)), i + (s < target), j - (s > target)\n",
    "        return r"
   ]
  }
 ],
 "metadata": {
  "kernelspec": {
   "display_name": "Python 3",
   "language": "python",
   "name": "python3"
  },
  "language_info": {
   "codemirror_mode": {
    "name": "ipython",
    "version": 3
   },
   "file_extension": ".py",
   "mimetype": "text/x-python",
   "name": "python",
   "nbconvert_exporter": "python",
   "pygments_lexer": "ipython3",
   "version": "3.6.4"
  }
 },
 "nbformat": 4,
 "nbformat_minor": 2
}
