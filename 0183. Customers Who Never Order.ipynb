{
 "cells": [
  {
   "cell_type": "markdown",
   "metadata": {},
   "source": [
    "# 183. Customers Who Never Order"
   ]
  },
  {
   "cell_type": "markdown",
   "metadata": {},
   "source": [
    "## Description"
   ]
  },
  {
   "cell_type": "markdown",
   "metadata": {},
   "source": [
    "<br>SQL Schema\n",
    "\n",
    "<br>Create table If Not Exists Customers (Id int, Name varchar(255))\n",
    "<br>Create table If Not Exists Orders (Id int, CustomerId int)\n",
    "<br>Truncate table Customers\n",
    "<br>insert into Customers (Id, Name) values ('1', 'Joe')\n",
    "<br>insert into Customers (Id, Name) values ('2', 'Henry')\n",
    "<br>insert into Customers (Id, Name) values ('3', 'Sam')\n",
    "<br>insert into Customers (Id, Name) values ('4', 'Max')\n",
    "<br>Truncate table Orders\n",
    "<br>insert into Orders (Id, CustomerId) values ('1', '3')\n",
    "<br>insert into Orders (Id, CustomerId) values ('2', '1')"
   ]
  },
  {
   "cell_type": "markdown",
   "metadata": {},
   "source": [
    "<br>Suppose that a website contains two tables, the Customers table and the Orders table. Write a SQL query to find all customers who never order anything.\n",
    "\n",
    "<br>Table: Customers."
   ]
  },
  {
   "cell_type": "markdown",
   "metadata": {},
   "source": [
    "<br>+----+----------+\n",
    "<br>|&nbsp;Id&nbsp;&nbsp;|&nbsp;&nbsp;Name&nbsp;&nbsp;|\n",
    "<br>+----+----------+\n",
    "<br>|&nbsp;&nbsp;1&nbsp;&nbsp;|&nbsp;&nbsp;&nbsp;&nbsp;Joe&nbsp;&nbsp;&nbsp;&nbsp;|\n",
    "<br>|&nbsp;&nbsp;2&nbsp;&nbsp;|&nbsp;&nbsp;Henry&nbsp;&nbsp;|\n",
    "<br>|&nbsp;&nbsp;3&nbsp;&nbsp;|&nbsp;&nbsp;&nbsp;Sam&nbsp;&nbsp;&nbsp;|\n",
    "<br>|&nbsp;&nbsp;4&nbsp;&nbsp;|&nbsp;&nbsp;&nbsp;Max&nbsp;&nbsp;&nbsp;&nbsp;|\n",
    "<br>+----+----------+"
   ]
  },
  {
   "cell_type": "markdown",
   "metadata": {},
   "source": [
    "<br>Table: Orders."
   ]
  },
  {
   "cell_type": "markdown",
   "metadata": {},
   "source": [
    "<br>+----+----------------+\n",
    "<br>|&nbsp;Id&nbsp;&nbsp;|&nbsp;CustomerId&nbsp;|\n",
    "<br>+----+----------------+\n",
    "<br>|&nbsp;&nbsp;1&nbsp;&nbsp;|&nbsp;&nbsp;&nbsp;&nbsp;&nbsp;&nbsp;&nbsp;3&nbsp;&nbsp;&nbsp;&nbsp;&nbsp;&nbsp;&nbsp;&nbsp;&nbsp;&nbsp;&nbsp;&nbsp;|\n",
    "<br>|&nbsp;&nbsp;2&nbsp;&nbsp;|&nbsp;&nbsp;&nbsp;&nbsp;&nbsp;&nbsp;&nbsp;1&nbsp;&nbsp;&nbsp;&nbsp;&nbsp;&nbsp;&nbsp;&nbsp;&nbsp;&nbsp;&nbsp;&nbsp;|\n",
    "<br>+----+----------------+"
   ]
  },
  {
   "cell_type": "markdown",
   "metadata": {},
   "source": [
    "<br>Using the above tables as example, return the following:"
   ]
  },
  {
   "cell_type": "markdown",
   "metadata": {},
   "source": [
    "<br>+---------------+\n",
    "<br>|&nbsp;Customers&nbsp;|\n",
    "<br>+---------------+\n",
    "<br>|&nbsp;&nbsp;&nbsp;&nbsp;Henry&nbsp;&nbsp;&nbsp;&nbsp;&nbsp;&nbsp;|\n",
    "<br>|&nbsp;&nbsp;&nbsp;&nbsp;Max&nbsp;&nbsp;&nbsp;&nbsp;&nbsp;&nbsp;&nbsp;&nbsp;&nbsp;|\n",
    "<br>+---------------+"
   ]
  },
  {
   "cell_type": "code",
   "execution_count": null,
   "metadata": {},
   "outputs": [],
   "source": [
    "# Write your MySQL query statement below\n",
    "SELECT Name AS Customers\n",
    "FROM Customers\n",
    "WHERE Customers.Id NOT IN( SELECT CustomerId FROM Orders)"
   ]
  }
 ],
 "metadata": {
  "kernelspec": {
   "display_name": "Python 3",
   "language": "python",
   "name": "python3"
  },
  "language_info": {
   "codemirror_mode": {
    "name": "ipython",
    "version": 3
   },
   "file_extension": ".py",
   "mimetype": "text/x-python",
   "name": "python",
   "nbconvert_exporter": "python",
   "pygments_lexer": "ipython3",
   "version": "3.6.4"
  }
 },
 "nbformat": 4,
 "nbformat_minor": 2
}
