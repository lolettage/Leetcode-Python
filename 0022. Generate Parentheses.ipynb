{
 "cells": [
  {
   "cell_type": "markdown",
   "metadata": {},
   "source": [
    "# 22. Generate Parentheses"
   ]
  },
  {
   "cell_type": "markdown",
   "metadata": {},
   "source": [
    "## Description"
   ]
  },
  {
   "cell_type": "markdown",
   "metadata": {},
   "source": [
    "<br>Given n pairs of parentheses, write a function to generate all combinations of well-formed parentheses.\n",
    "\n",
    "<br>For example, given n = 3, a solution set is:"
   ]
  },
  {
   "cell_type": "markdown",
   "metadata": {},
   "source": [
    "<br>[\n",
    "<br>&nbsp;&nbsp;&nbsp;&nbsp;\"((()))\",\n",
    "<br>&nbsp;&nbsp;&nbsp;&nbsp;\"(()())\",\n",
    "<br>&nbsp;&nbsp;&nbsp;&nbsp;\"(())()\",\n",
    "<br>&nbsp;&nbsp;&nbsp;&nbsp;\"()(())\",\n",
    "<br>&nbsp;&nbsp;&nbsp;&nbsp;\"()()()\"\n",
    "<br>]"
   ]
  },
  {
   "cell_type": "code",
   "execution_count": null,
   "metadata": {},
   "outputs": [],
   "source": [
    "class Solution(object):\n",
    "    def generateParenthesis(self, n):\n",
    "        result = []\n",
    "        while n > 0:\n",
    "            if len(result) == 0:\n",
    "                result.append('()')\n",
    "            else:\n",
    "                string = []\n",
    "                for res in result:\n",
    "                    for i in range(len(res)):\n",
    "                        temp = res[:i]+'()'+res[i:]\n",
    "                        if temp not in string:\n",
    "                            string.append(temp)\n",
    "                result = string\n",
    "            n = n - 1\n",
    "        return result"
   ]
  },
  {
   "cell_type": "code",
   "execution_count": null,
   "metadata": {},
   "outputs": [],
   "source": [
    "class Solution:\n",
    "    def generateParenthesis(self, n: int) -> List[str]:\n",
    "        res = []\n",
    "        res_dict = {}\n",
    "        if n > 1:\n",
    "            for i in self.generateParenthesis(n - 1):\n",
    "                for j in range(len(i)):\n",
    "                    s = '(' + i[:j] + ')' + i[j:]\n",
    "                    if not res_dict.get(s):\n",
    "                        res.append(s)\n",
    "                        res_dict[s] = True\n",
    "        else:\n",
    "            return ['()']\n",
    "        return res"
   ]
  },
  {
   "cell_type": "code",
   "execution_count": null,
   "metadata": {},
   "outputs": [],
   "source": [
    "class Solution:\n",
    "    def generateParenthesis(self, n: 'int') -> 'List[str]':\n",
    "        dp = [[] for i in range(n + 1)]\n",
    "        dp[0].append('')\n",
    "        for i in range(n + 1):\n",
    "            for j in range(i):\n",
    "                dp[i] += ['(' + x + ')' + y for x in dp[j] for y in dp[i - j - 1]]\n",
    "        return dp[n]"
   ]
  }
 ],
 "metadata": {
  "kernelspec": {
   "display_name": "Python 3",
   "language": "python",
   "name": "python3"
  },
  "language_info": {
   "codemirror_mode": {
    "name": "ipython",
    "version": 3
   },
   "file_extension": ".py",
   "mimetype": "text/x-python",
   "name": "python",
   "nbconvert_exporter": "python",
   "pygments_lexer": "ipython3",
   "version": "3.6.4"
  }
 },
 "nbformat": 4,
 "nbformat_minor": 2
}
