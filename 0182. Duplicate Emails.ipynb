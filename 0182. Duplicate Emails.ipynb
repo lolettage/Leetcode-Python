{
 "cells": [
  {
   "cell_type": "markdown",
   "metadata": {},
   "source": [
    "# 182. Duplicate Emails"
   ]
  },
  {
   "cell_type": "markdown",
   "metadata": {},
   "source": [
    "## Description"
   ]
  },
  {
   "cell_type": "markdown",
   "metadata": {},
   "source": [
    "<br>SQL Schema:\n",
    "\n",
    "<br>Create table If Not Exists Person (Id int, Email varchar(255))\n",
    "<br>Truncate table Person\n",
    "<br>insert into Person (Id, Email) values ('1', 'a@b.com')\n",
    "<br>insert into Person (Id, Email) values ('2', 'c@d.com')\n",
    "<br>insert into Person (Id, Email) values ('3', 'a@b.com')"
   ]
  },
  {
   "cell_type": "markdown",
   "metadata": {},
   "source": [
    "<br>Write a SQL query to find all duplicate emails in a table named Person."
   ]
  },
  {
   "cell_type": "markdown",
   "metadata": {},
   "source": [
    "<br>+----+-------------+\n",
    "<br>|&nbsp;Id&nbsp;&nbsp;|&nbsp;&nbsp;&nbsp;&nbsp;Email&nbsp;&nbsp;&nbsp;&nbsp;|\n",
    "<br>+----+-------------+\n",
    "<br>|&nbsp;&nbsp;1&nbsp;&nbsp;|&nbsp;a@b.com&nbsp;|\n",
    "<br>|&nbsp;&nbsp;2&nbsp;&nbsp;|&nbsp;c@d.com&nbsp;|\n",
    "<br>|&nbsp;&nbsp;3&nbsp;&nbsp;|&nbsp;a@b.com&nbsp;|\n",
    "<br>+----+-------------+"
   ]
  },
  {
   "cell_type": "markdown",
   "metadata": {},
   "source": [
    "<br>For example, your query should return the following for the above table:"
   ]
  },
  {
   "cell_type": "markdown",
   "metadata": {},
   "source": [
    "<br>+-------------+\n",
    "<br>|&nbsp;&nbsp;&nbsp;&nbsp;Email&nbsp;&nbsp;&nbsp;&nbsp;|\n",
    "<br>+-------------+\n",
    "<br>|&nbsp;a@b.com&nbsp;|\n",
    "<br>+-------------+"
   ]
  },
  {
   "cell_type": "code",
   "execution_count": null,
   "metadata": {},
   "outputs": [],
   "source": [
    "# Write your MySQL query statement below\n",
    "select Email from Person group by Email having count(Email) > 1"
   ]
  }
 ],
 "metadata": {
  "kernelspec": {
   "display_name": "Python 3",
   "language": "python",
   "name": "python3"
  },
  "language_info": {
   "codemirror_mode": {
    "name": "ipython",
    "version": 3
   },
   "file_extension": ".py",
   "mimetype": "text/x-python",
   "name": "python",
   "nbconvert_exporter": "python",
   "pygments_lexer": "ipython3",
   "version": "3.6.4"
  }
 },
 "nbformat": 4,
 "nbformat_minor": 2
}
