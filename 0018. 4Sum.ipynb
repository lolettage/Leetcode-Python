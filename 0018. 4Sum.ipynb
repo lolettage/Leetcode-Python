{
 "cells": [
  {
   "cell_type": "markdown",
   "metadata": {},
   "source": [
    "# 18. 4Sum"
   ]
  },
  {
   "cell_type": "markdown",
   "metadata": {},
   "source": [
    "## Description"
   ]
  },
  {
   "cell_type": "markdown",
   "metadata": {},
   "source": [
    "<br>Given an array nums of n integers and an integer target, are there elements a, b, c, and d in nums such that a + b + c + d = target? Find all unique quadruplets in the array which gives the sum of target."
   ]
  },
  {
   "cell_type": "markdown",
   "metadata": {},
   "source": [
    "### Note"
   ]
  },
  {
   "cell_type": "markdown",
   "metadata": {},
   "source": [
    "<br>The solution set must not contain duplicate quadruplets."
   ]
  },
  {
   "cell_type": "markdown",
   "metadata": {},
   "source": [
    "### Example"
   ]
  },
  {
   "cell_type": "markdown",
   "metadata": {},
   "source": [
    "<br>Given array nums = [1, 0, -1, 0, -2, 2], and target = 0.\n",
    "\n",
    "<br>A solution set is:\n",
    "<br>[\n",
    "<br>&nbsp;&nbsp;&nbsp;&nbsp;[-1,  0, 0, 1],\n",
    "<br>&nbsp;&nbsp;&nbsp;&nbsp;[-2, -1, 1, 2],\n",
    "<br>&nbsp;&nbsp;&nbsp;&nbsp;[-2,  0, 0, 2]\n",
    "<br>]"
   ]
  },
  {
   "cell_type": "code",
   "execution_count": null,
   "metadata": {},
   "outputs": [],
   "source": [
    "class Solution:\n",
    "    def fourSum(self, nums: List[int], target: int) -> List[List[int]]:\n",
    "        n, res = len(nums), []\n",
    "        nums.sort()\n",
    "        for i in range(n):\n",
    "            if i > 0 and nums[i] == nums[i - 1]:   \n",
    "                continue\n",
    "            for j in range(i + 1, n):\n",
    "                if j > i + 1 and nums[j] == nums[j - 1]:\n",
    "                    continue    \n",
    "                l, r = j + 1, n - 1\n",
    "                while l < r:\n",
    "                    tmp = nums[i] + nums[l] + nums[r] + nums[j]\n",
    "                    if tmp == target:\n",
    "                        res.append([nums[i], nums[l], nums[r], nums[j]])\n",
    "                        l += 1\n",
    "                        r -= 1\n",
    "                        while l < r and nums[l] == nums[l - 1]: \n",
    "                            l += 1\n",
    "                        while l < r and nums[r] == nums[r + 1]: \n",
    "                            r -= 1\n",
    "                    elif tmp > target:\n",
    "                        r -= 1\n",
    "                    else:\n",
    "                        l += 1\n",
    "        return res"
   ]
  },
  {
   "cell_type": "code",
   "execution_count": null,
   "metadata": {},
   "outputs": [],
   "source": [
    "class Solution:\n",
    "    def fourSum(self, nums: List[int], target: int) -> List[List[int]]:\n",
    "        nums.sort()\n",
    "        n = len(nums)\n",
    "        res = []\n",
    "        for i in range(n - 3):\n",
    "            if i > 0 and nums[i] == nums[i - 1]:\n",
    "                continue\n",
    "            if nums[i] + nums[i + 1] + nums[i + 2] + nums[i + 3] > target:\n",
    "                break\n",
    "            if nums[i] + nums[n - 1] + nums[n - 2] + nums[n - 3] < target:\n",
    "                continue               \n",
    "            for j in range(i + 1, n - 2):\n",
    "                if j > i + 1 and nums[j] == nums[j - 1]:\n",
    "                    continue\n",
    "                if nums[i] + nums[j] + nums[j + 1] + nums[j + 2] > target:\n",
    "                    break\n",
    "                if nums[i] + nums[j] + nums[n - 1] + nums[n - 2] < target:\n",
    "                    continue                    \n",
    "                l = j + 1\n",
    "                r = n - 1\n",
    "                while l < r:\n",
    "                    sums = nums[i] + nums[l] + nums[r] + nums[j]\n",
    "                    if sums > target : r -= 1\n",
    "                    elif sums < target : l += 1\n",
    "                    else:\n",
    "                        res.append([nums[i], nums[l], nums[r], nums[j]])\n",
    "                        while l < r and nums[l] == nums[l+1] : l += 1\n",
    "                        while l < r and nums[r] == nums[r-1] : r -= 1\n",
    "                        l += 1\n",
    "                        r -= 1\n",
    "        return res"
   ]
  }
 ],
 "metadata": {
  "kernelspec": {
   "display_name": "Python 3",
   "language": "python",
   "name": "python3"
  },
  "language_info": {
   "codemirror_mode": {
    "name": "ipython",
    "version": 3
   },
   "file_extension": ".py",
   "mimetype": "text/x-python",
   "name": "python",
   "nbconvert_exporter": "python",
   "pygments_lexer": "ipython3",
   "version": "3.6.4"
  }
 },
 "nbformat": 4,
 "nbformat_minor": 2
}
