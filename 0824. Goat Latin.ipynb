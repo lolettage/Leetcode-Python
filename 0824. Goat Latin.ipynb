{
 "cells": [
  {
   "cell_type": "markdown",
   "metadata": {},
   "source": [
    "# 824. Goat Latin"
   ]
  },
  {
   "cell_type": "markdown",
   "metadata": {},
   "source": [
    "## Description"
   ]
  },
  {
   "cell_type": "markdown",
   "metadata": {},
   "source": [
    "<br>A sentence S is given, composed of words separated by spaces. Each word consists of lowercase and uppercase letters only.\n",
    "\n",
    "<br>We would like to convert the sentence to \"Goat Latin\" (a made-up language similar to Pig Latin.)\n",
    "\n",
    "<br>The rules of Goat Latin are as follows:\n",
    "\n",
    "<br>&nbsp;&nbsp;If a word begins with a vowel (a, e, i, o, or u), append \"ma\" to the end of the word.\n",
    "<br>&nbsp;&nbsp;For example, the word 'apple' becomes 'applema'.\n",
    " \n",
    "<br>&nbsp;&nbsp;If a word begins with a consonant (i.e. not a vowel), remove the first letter and append it to the end, then add \"ma\".\n",
    "<br>&nbsp;&nbsp;For example, the word \"goat\" becomes \"oatgma\".\n",
    " \n",
    "<br>&nbsp;&nbsp;Add one letter 'a' to the end of each word per its word index in the sentence, starting with 1.\n",
    "<br>&nbsp;&nbsp;For example, the first word gets \"a\" added to the end, the second word gets \"aa\" added to the end and so on.\n",
    "\n",
    "<br>Return the final sentence representing the conversion from S to Goat Latin. "
   ]
  },
  {
   "cell_type": "markdown",
   "metadata": {},
   "source": [
    "### Example 1"
   ]
  },
  {
   "cell_type": "markdown",
   "metadata": {},
   "source": [
    "<br>Input: \"I speak Goat Latin\"\n",
    "<br>Output: \"Imaa peaksmaaa oatGmaaaa atinLmaaaaa\""
   ]
  },
  {
   "cell_type": "markdown",
   "metadata": {},
   "source": [
    "### Example 2"
   ]
  },
  {
   "cell_type": "markdown",
   "metadata": {},
   "source": [
    "<br>Input: \"The quick brown fox jumped over the lazy dog\"\n",
    "<br>Output: \"heTmaa uickqmaaa rownbmaaaa oxfmaaaaa umpedjmaaaaaa overmaaaaaaa hetmaaaaaaaa azylmaaaaaaaaa ogdmaaaaaaaaaa\""
   ]
  },
  {
   "cell_type": "markdown",
   "metadata": {},
   "source": [
    "### Note"
   ]
  },
  {
   "cell_type": "markdown",
   "metadata": {},
   "source": [
    "<br>S contains only uppercase, lowercase and spaces. Exactly one space between each word.\n",
    "<br>1 <= S.length <= 150."
   ]
  },
  {
   "cell_type": "code",
   "execution_count": null,
   "metadata": {},
   "outputs": [],
   "source": [
    "class Solution:\n",
    "    def toGoatLatin(self, S):\n",
    "        \"\"\"\n",
    "        :type S: str\n",
    "        :rtype: str\n",
    "        \"\"\"\n",
    "        yuan = ['a', 'e', 'i', 'o', 'u']\n",
    "        tt = S.split()\n",
    "        s = ''\n",
    "        b = 'aa'\n",
    "        for i in range(len(tt)):\n",
    "            if tt[i][0].lower() in yuan:\n",
    "                s = s + tt[i] + 'm' + b + ' '\n",
    "            else:\n",
    "                s = s + tt[i][1:] + tt[i][0] + 'm' + b + ' '\n",
    "            b = b + 'a'\n",
    "        return s.rstrip()"
   ]
  }
 ],
 "metadata": {
  "kernelspec": {
   "display_name": "Python 3",
   "language": "python",
   "name": "python3"
  },
  "language_info": {
   "codemirror_mode": {
    "name": "ipython",
    "version": 3
   },
   "file_extension": ".py",
   "mimetype": "text/x-python",
   "name": "python",
   "nbconvert_exporter": "python",
   "pygments_lexer": "ipython3",
   "version": "3.6.4"
  }
 },
 "nbformat": 4,
 "nbformat_minor": 2
}
