{
 "cells": [
  {
   "cell_type": "markdown",
   "metadata": {},
   "source": [
    "# 463. Island Perimeter"
   ]
  },
  {
   "cell_type": "markdown",
   "metadata": {},
   "source": [
    "## Description"
   ]
  },
  {
   "cell_type": "markdown",
   "metadata": {},
   "source": [
    "<br>You are given a map in form of a two-dimensional integer grid where 1 represents land and 0 represents water.\n",
    "\n",
    "<br>Grid cells are connected horizontally/vertically (not diagonally). The grid is completely surrounded by water, and there is exactly one island (i.e., one or more connected land cells).\n",
    "\n",
    "<br>The island doesn't have \"lakes\" (water inside that isn't connected to the water around the island). One cell is a square with side length 1. The grid is rectangular, width and height don't exceed 100. Determine the perimeter of the island"
   ]
  },
  {
   "cell_type": "markdown",
   "metadata": {},
   "source": [
    "### Example"
   ]
  },
  {
   "cell_type": "markdown",
   "metadata": {},
   "source": [
    "<br>Input:\n",
    "<br>[[0,1,0,0],\n",
    "<br>&nbsp;[1,1,1,0],\n",
    "<br>&nbsp;[0,1,0,0],\n",
    "<br>&nbsp;[1,1,0,0]]\n",
    "\n",
    "<br>Output: 16\n",
    "\n",
    "<br>Explanation: The perimeter is the 16 yellow stripes in the image below:"
   ]
  },
  {
   "cell_type": "markdown",
   "metadata": {},
   "source": [
    "<img src=\"./0463.png\", width=200, heigth=100>"
   ]
  },
  {
   "cell_type": "code",
   "execution_count": null,
   "metadata": {},
   "outputs": [],
   "source": [
    "class Solution:\n",
    "    def islandPerimeter(self, grid):\n",
    "        \"\"\"\n",
    "        :type grid: List[List[int]]\n",
    "        :rtype: int\n",
    "        \"\"\"\n",
    "        half = 0\n",
    "        for row in grid + list(zip(*grid)):\n",
    "            scan = False\n",
    "            for cell in row:\n",
    "                if cell == 1:\n",
    "                    if not scan:\n",
    "                        half += 1\n",
    "                        scan = True\n",
    "                    else:\n",
    "                        continue\n",
    "                else:\n",
    "                    scan = False\n",
    "        return 2 * half"
   ]
  }
 ],
 "metadata": {
  "kernelspec": {
   "display_name": "Python 3",
   "language": "python",
   "name": "python3"
  },
  "language_info": {
   "codemirror_mode": {
    "name": "ipython",
    "version": 3
   },
   "file_extension": ".py",
   "mimetype": "text/x-python",
   "name": "python",
   "nbconvert_exporter": "python",
   "pygments_lexer": "ipython3",
   "version": "3.6.4"
  }
 },
 "nbformat": 4,
 "nbformat_minor": 2
}
