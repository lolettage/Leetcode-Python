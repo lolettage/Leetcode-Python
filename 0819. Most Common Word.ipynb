{
 "cells": [
  {
   "cell_type": "markdown",
   "metadata": {},
   "source": [
    "# 819. Most Common Word"
   ]
  },
  {
   "cell_type": "markdown",
   "metadata": {},
   "source": [
    "## Description"
   ]
  },
  {
   "cell_type": "markdown",
   "metadata": {},
   "source": [
    "<br>Given a paragraph and a list of banned words, return the most frequent word that is not in the list of banned words.  It is guaranteed there is at least one word that isn't banned, and that the answer is unique.\n",
    "\n",
    "<br>Words in the list of banned words are given in lowercase, and free of punctuation.  Words in the paragraph are not case sensitive.  The answer is in lowercase."
   ]
  },
  {
   "cell_type": "markdown",
   "metadata": {},
   "source": [
    "### Example"
   ]
  },
  {
   "cell_type": "markdown",
   "metadata": {},
   "source": [
    "<br>Input: \n",
    "<br>paragraph = \"Bob hit a ball, the hit BALL flew far after it was hit.\"\n",
    "<br>banned = [\"hit\"]\n",
    "<br>Output: \"ball\"\n",
    "<br>Explanation: \n",
    "<br>\"hit\" occurs 3 times, but it is a banned word.\n",
    "<br>\"ball\" occurs twice (and no other word does), so it is the most frequent non-banned word in the paragraph. \n",
    "<br>Note that words in the paragraph are not case sensitive,that punctuation is ignored (even if adjacent to words, such as \"ball,\"), and that \"hit\" isn't the answer even though it occurs more because it is banned."
   ]
  },
  {
   "cell_type": "markdown",
   "metadata": {},
   "source": [
    "### Note"
   ]
  },
  {
   "cell_type": "markdown",
   "metadata": {},
   "source": [
    "<br>1 <= paragraph.length <= 1000.\n",
    "<br>0 <= banned.length <= 100.\n",
    "<br>1 <= banned[i].length <= 10.\n",
    "<br>The answer is unique, and written in lowercase (even if its occurrences in paragraph may have uppercase symbols, and even if it is a proper noun.) \n",
    "<br>paragraph only consists of letters, spaces, or the punctuation symbols !?',;.\n",
    "<br>There are no hyphens or hyphenated words.\n",
    "<br>Words only consist of letters, never apostrophes or other punctuation symbols."
   ]
  },
  {
   "cell_type": "code",
   "execution_count": null,
   "metadata": {},
   "outputs": [],
   "source": [
    "import re\n",
    "class Solution:\n",
    "    def mostCommonWord(self, paragraph, banned):\n",
    "        \"\"\"\n",
    "        :type paragraph: str\n",
    "        :type banned: List[str]\n",
    "        :rtype: str\n",
    "        \"\"\"\n",
    "        paragraph = paragraph.lower()\n",
    "        paragraph = re.sub(\"[\\s+\\.,?;\\!\\/_,$%^*(+\\\"\\']+|[+——！,.?\\~@#￥%……&*（）]+\", \" \", paragraph)\n",
    "        z = paragraph.split()\n",
    "        t = {}\n",
    "        for i in z:\n",
    "            if i not in banned:\n",
    "                if i in t:\n",
    "                    t[i] += 1\n",
    "                else:\n",
    "                    t[i] = 1\n",
    "        t = sorted(t.items(), key = lambda x:x[1], reverse = True)\n",
    "        return t[0][0]"
   ]
  },
  {
   "cell_type": "code",
   "execution_count": null,
   "metadata": {},
   "outputs": [],
   "source": [
    "class Solution:\n",
    "    def mostCommonWord(self, paragraph, banned):\n",
    "        \"\"\"\n",
    "        :type paragraph: str\n",
    "        :type banned: List[str]\n",
    "        :rtype: str\n",
    "        \"\"\"\n",
    "        ban = set(banned)\n",
    "        words = re.findall(r'\\w+', paragraph.lower())\n",
    "        return collections.Counter(w for w in words if w not in ban).most_common(1)[0][0]"
   ]
  }
 ],
 "metadata": {
  "kernelspec": {
   "display_name": "Python 3",
   "language": "python",
   "name": "python3"
  },
  "language_info": {
   "codemirror_mode": {
    "name": "ipython",
    "version": 3
   },
   "file_extension": ".py",
   "mimetype": "text/x-python",
   "name": "python",
   "nbconvert_exporter": "python",
   "pygments_lexer": "ipython3",
   "version": "3.6.4"
  }
 },
 "nbformat": 4,
 "nbformat_minor": 2
}
