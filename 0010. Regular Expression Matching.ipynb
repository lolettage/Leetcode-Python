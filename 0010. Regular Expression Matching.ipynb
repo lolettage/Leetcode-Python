{
 "cells": [
  {
   "cell_type": "markdown",
   "metadata": {},
   "source": [
    "# 10. Regular Expression Matching"
   ]
  },
  {
   "cell_type": "markdown",
   "metadata": {},
   "source": [
    "## Description"
   ]
  },
  {
   "cell_type": "markdown",
   "metadata": {},
   "source": [
    "<br>Given an input string (s) and a pattern (p), implement regular expression matching with support for '.' and '\\*'.\n",
    "<br>'.' Matches any single character.\n",
    "<br>'\\*' Matches zero or more of the preceding element.\n",
    "<br>The matching should cover the entire input string (not partial)."
   ]
  },
  {
   "cell_type": "markdown",
   "metadata": {},
   "source": [
    "### Note"
   ]
  },
  {
   "cell_type": "markdown",
   "metadata": {},
   "source": [
    "<br>s could be empty and contains only lowercase letters a-z.\n",
    "<br>p could be empty and contains only lowercase letters a-z, and characters like . or \\*."
   ]
  },
  {
   "cell_type": "markdown",
   "metadata": {},
   "source": [
    "### Example1"
   ]
  },
  {
   "cell_type": "markdown",
   "metadata": {},
   "source": [
    "<br>Input:\n",
    "<br>s = \"aa\"\n",
    "<br>p = \"a\"\n",
    "<br>Output: false\n",
    "<br>Explanation: \"a\" does not match the entire string \"aa\"."
   ]
  },
  {
   "cell_type": "markdown",
   "metadata": {},
   "source": [
    "### Example2"
   ]
  },
  {
   "cell_type": "markdown",
   "metadata": {},
   "source": [
    "<br>Input:\n",
    "<br>s = \"aa\"\n",
    "<br>p = \"a\\*\"\n",
    "<br>Output: true\n",
    "<br>Explanation: '\\*' means zero or more of the precedeng element, 'a'. Therefore, by repeating 'a' once, it becomes \"aa\"."
   ]
  },
  {
   "cell_type": "markdown",
   "metadata": {},
   "source": [
    "### Example3"
   ]
  },
  {
   "cell_type": "markdown",
   "metadata": {},
   "source": [
    "<br>Input:\n",
    "<br>s = \"ab\"\n",
    "<br>p = \".\\*\"\n",
    "<br>Output: true\n",
    "<br>Explanation: \".\\*\" means \"zero or more (\\*) of any character (.)\"."
   ]
  },
  {
   "cell_type": "markdown",
   "metadata": {},
   "source": [
    "### Example4"
   ]
  },
  {
   "cell_type": "markdown",
   "metadata": {},
   "source": [
    "<br>Input:\n",
    "<br>s = \"aab\"\n",
    "<br>p = \"c\\*a\\*b\"\n",
    "<br>Output: true\n",
    "<br>Explanation: c can be repeated 0 times, a can be repeated 1 time. Therefore it matches \"aab\"."
   ]
  },
  {
   "cell_type": "markdown",
   "metadata": {},
   "source": [
    "### Example5"
   ]
  },
  {
   "cell_type": "markdown",
   "metadata": {},
   "source": [
    "<br>Input:\n",
    "<br>s = \"mississippi\"\n",
    "<br>p = \"mis\\*is\\*p\\*.\"\n",
    "<br>Output: false"
   ]
  },
  {
   "cell_type": "code",
   "execution_count": null,
   "metadata": {},
   "outputs": [],
   "source": [
    "class Solution:\n",
    "    def isMatch(self, s: str, p: str) -> bool:\n",
    "        if p == \"\":\n",
    "            return s == \"\"\n",
    "        if len(p) > 1 and p[1] == \"*\":\n",
    "            return self.isMatch(s, p[2:]) or (s and (s[0] == p[0] or p[0] == '.') and self.isMatch(s[1:], p))\n",
    "        else:\n",
    "            return s and (s[0] == p[0] or p[0] == '.') and self.isMatch(s[1:], p[1:])"
   ]
  },
  {
   "cell_type": "code",
   "execution_count": null,
   "metadata": {},
   "outputs": [],
   "source": [
    "import re\n",
    "class Solution:\n",
    "    def isMatch(self, s: str, p: str) -> bool:\n",
    "        p = re.compile(p)\n",
    "        m = p.match(s)\n",
    "        if not m:\n",
    "            return False\n",
    "        res = m.group()\n",
    "        if res == s:\n",
    "            return True\n",
    "        return False        "
   ]
  },
  {
   "cell_type": "code",
   "execution_count": null,
   "metadata": {},
   "outputs": [],
   "source": [
    "import re\n",
    "class Solution:\n",
    "    def isMatch(self, s: str, p: str) -> bool:\n",
    "        i = re.match(p,s)\n",
    "        return True if i and i.group() == s else False"
   ]
  }
 ],
 "metadata": {
  "kernelspec": {
   "display_name": "Python 3",
   "language": "python",
   "name": "python3"
  },
  "language_info": {
   "codemirror_mode": {
    "name": "ipython",
    "version": 3
   },
   "file_extension": ".py",
   "mimetype": "text/x-python",
   "name": "python",
   "nbconvert_exporter": "python",
   "pygments_lexer": "ipython3",
   "version": "3.6.4"
  }
 },
 "nbformat": 4,
 "nbformat_minor": 2
}
