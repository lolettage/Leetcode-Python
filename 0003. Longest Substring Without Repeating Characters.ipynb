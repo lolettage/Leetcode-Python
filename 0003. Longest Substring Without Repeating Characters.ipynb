{
 "cells": [
  {
   "cell_type": "markdown",
   "metadata": {},
   "source": [
    "# 3. Longest Substring Without Repeating Characters\n",
    "\n",
    "## Description\n",
    "\n",
    ">Given a string, find the length of the **longest substring** without repeating characters.\n",
    "\n",
    "### Example 1\n",
    "\n",
    ">Input: \"abcabcbb\"  \n",
    "Output: 3  \n",
    "Explanation: The answer is \"abc\", with the length of 3.  \n",
    "\n",
    "### Example 2\n",
    "\n",
    ">Input: \"bbbbb\"  \n",
    "Output: 1  \n",
    "Explanation: The answer is \"b\", with the length of 1.  \n",
    "\n",
    "### Example 3\n",
    "\n",
    ">Input: \"pwwkew\"  \n",
    "Output: 3  \n",
    "Explanation: The answer is \"wke\", with the length of 3. Note that the answer must be a **substring**, \"pwke\" is a *subsequence* and not a substring."
   ]
  },
  {
   "cell_type": "code",
   "execution_count": null,
   "metadata": {},
   "outputs": [],
   "source": [
    "class Solution:\n",
    "    def lengthOfLongestSubstring(self, s: str) -> int:\n",
    "        a = {}\n",
    "        i, b = 0, 0\n",
    "        for idx, item in enumerate(s, start=1):\n",
    "            if item in a:\n",
    "                i = max(a[item], i)\n",
    "            b = max(b, idx - i)\n",
    "            a[item] = idx\n",
    "        return b"
   ]
  }
 ],
 "metadata": {
  "kernelspec": {
   "display_name": "Python 3",
   "language": "python",
   "name": "python3"
  },
  "language_info": {
   "codemirror_mode": {
    "name": "ipython",
    "version": 3
   },
   "file_extension": ".py",
   "mimetype": "text/x-python",
   "name": "python",
   "nbconvert_exporter": "python",
   "pygments_lexer": "ipython3",
   "version": "3.6.4"
  }
 },
 "nbformat": 4,
 "nbformat_minor": 2
}
