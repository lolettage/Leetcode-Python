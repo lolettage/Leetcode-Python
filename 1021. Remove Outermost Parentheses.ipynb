{
 "cells": [
  {
   "cell_type": "markdown",
   "metadata": {},
   "source": [
    "# 1021. Remove Outermost Parentheses"
   ]
  },
  {
   "cell_type": "markdown",
   "metadata": {},
   "source": [
    "## Description"
   ]
  },
  {
   "cell_type": "markdown",
   "metadata": {},
   "source": [
    "<br>A valid parentheses string is either empty (\"\"), \"(\" + A + \")\", or A + B, where A and B are valid parentheses strings, and + represents string concatenation.  For example, \"\", \"()\", \"(())()\", and \"(()(()))\" are all valid parentheses strings.\n",
    "\n",
    "<br>A valid parentheses string S is primitive if it is nonempty, and there does not exist a way to split it into S = A+B, with A and B nonempty valid parentheses strings.\n",
    "\n",
    "<br>Given a valid parentheses string S, consider its primitive decomposition: S = P_1 + P_2 + ... + P_k, where P_i are primitive valid parentheses strings.\n",
    "\n",
    "<br>Return S after removing the outermost parentheses of every primitive string in the primitive decomposition of S."
   ]
  },
  {
   "cell_type": "markdown",
   "metadata": {},
   "source": [
    "### Example 1"
   ]
  },
  {
   "cell_type": "markdown",
   "metadata": {},
   "source": [
    "<br>Input: \"(()())(())\"\n",
    "<br>Output: \"()()()\"\n",
    "<br>Explanation: \n",
    "<br>The input string is \"(()())(())\", with primitive decomposition \"(()())\" + \"(())\".\n",
    "<br>After removing outer parentheses of each part, this is \"()()\" + \"()\" = \"()()()\"."
   ]
  },
  {
   "cell_type": "markdown",
   "metadata": {},
   "source": [
    "### Example 2"
   ]
  },
  {
   "cell_type": "markdown",
   "metadata": {},
   "source": [
    "<br>Input: \"(()())(())(()(()))\"\n",
    "<br>Output: \"()()()()(())\"\n",
    "<br>Explanation: \n",
    "<br>The input string is \"(()())(())(()(()))\", with primitive decomposition \"(()())\" + \"(())\" + \"(()(()))\".\n",
    "<br>After removing outer parentheses of each part, this is \"()()\" + \"()\" + \"()(())\" = \"()()()()(())\"."
   ]
  },
  {
   "cell_type": "markdown",
   "metadata": {},
   "source": [
    "### Example 3"
   ]
  },
  {
   "cell_type": "markdown",
   "metadata": {},
   "source": [
    "<br>Input: \"()()\"\n",
    "<br>Output: \"\"\n",
    "<br>Explanation: \n",
    "<br>The input string is \"()()\", with primitive decomposition \"()\" + \"()\".\n",
    "<br>After removing outer parentheses of each part, this is \"\" + \"\" = \"\"."
   ]
  },
  {
   "cell_type": "markdown",
   "metadata": {},
   "source": [
    "### Note"
   ]
  },
  {
   "cell_type": "markdown",
   "metadata": {},
   "source": [
    "<br>1. S.length <= 10000\n",
    "<br>2. S[i] is \"(\" or \")\"\n",
    "<br>3. S is a valid parentheses string"
   ]
  },
  {
   "cell_type": "code",
   "execution_count": null,
   "metadata": {},
   "outputs": [],
   "source": [
    "class Solution:\n",
    "    def removeOuterParentheses(self, S: str) -> str:\n",
    "        b = \"\"\n",
    "        t = 0\n",
    "        for i in S:\n",
    "            if i == \"(\":\n",
    "                if t >= 1:\n",
    "                    b = b + i\n",
    "                t = t + 1\n",
    "            else:\n",
    "                if t > 1:\n",
    "                    b = b + i\n",
    "                t = t - 1\n",
    "        return b"
   ]
  }
 ],
 "metadata": {
  "kernelspec": {
   "display_name": "Python 3",
   "language": "python",
   "name": "python3"
  },
  "language_info": {
   "codemirror_mode": {
    "name": "ipython",
    "version": 3
   },
   "file_extension": ".py",
   "mimetype": "text/x-python",
   "name": "python",
   "nbconvert_exporter": "python",
   "pygments_lexer": "ipython3",
   "version": "3.6.4"
  }
 },
 "nbformat": 4,
 "nbformat_minor": 2
}
