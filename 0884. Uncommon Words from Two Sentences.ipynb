{
 "cells": [
  {
   "cell_type": "markdown",
   "metadata": {},
   "source": [
    "# 884. Uncommon Words from Two Sentences"
   ]
  },
  {
   "cell_type": "markdown",
   "metadata": {},
   "source": [
    "## Description"
   ]
  },
  {
   "cell_type": "markdown",
   "metadata": {},
   "source": [
    "<br>We are given two sentences A and B.  (A sentence is a string of space separated words.  Each word consists only of lowercase letters.)\n",
    "\n",
    "<br>A word is uncommon if it appears exactly once in one of the sentences, and does not appear in the other sentence.\n",
    "\n",
    "<br>Return a list of all uncommon words. \n",
    "\n",
    "<br>You may return the list in any order."
   ]
  },
  {
   "cell_type": "markdown",
   "metadata": {},
   "source": [
    "### Example 1"
   ]
  },
  {
   "cell_type": "markdown",
   "metadata": {},
   "source": [
    "<br>Input: A = \"this apple is sweet\", B = \"this apple is sour\"\n",
    "<br>Output: [\"sweet\",\"sour\"]"
   ]
  },
  {
   "cell_type": "markdown",
   "metadata": {},
   "source": [
    "### Example 2"
   ]
  },
  {
   "cell_type": "markdown",
   "metadata": {},
   "source": [
    "<br>Input: A = \"apple apple\", B = \"banana\"\n",
    "<br>Output: [\"banana\"]"
   ]
  },
  {
   "cell_type": "markdown",
   "metadata": {},
   "source": [
    "### Note"
   ]
  },
  {
   "cell_type": "markdown",
   "metadata": {},
   "source": [
    "<br>1. 0 <= A.length <= 200\n",
    "<br>2. 0 <= B.length <= 200\n",
    "<br>3. A and B both contain only spaces and lowercase letters."
   ]
  },
  {
   "cell_type": "code",
   "execution_count": null,
   "metadata": {},
   "outputs": [],
   "source": [
    "class Solution:\n",
    "    def uncommonFromSentences(self, A, B):\n",
    "        \"\"\"\n",
    "        :type A: str\n",
    "        :type B: str\n",
    "        :rtype: List[str]\n",
    "        \"\"\"\n",
    "        s = {}\n",
    "        z = []\n",
    "        for i in A.split() + B.split():\n",
    "            if i in s:\n",
    "                s[i] += 1\n",
    "            else:\n",
    "                s[i] = 1\n",
    "        return [key for key, val in s.items() if val == 1]"
   ]
  },
  {
   "cell_type": "code",
   "execution_count": null,
   "metadata": {},
   "outputs": [],
   "source": [
    "class Solution:\n",
    "    def uncommonFromSentences(self, A, B):\n",
    "        \"\"\"\n",
    "        :type A: str\n",
    "        :type B: str\n",
    "        :rtype: List[str]\n",
    "        \"\"\"\n",
    "        both = (A + \" \" + B).split()\n",
    "        return [word for word in both if both.count(word) == 1]"
   ]
  }
 ],
 "metadata": {
  "kernelspec": {
   "display_name": "Python 3",
   "language": "python",
   "name": "python3"
  },
  "language_info": {
   "codemirror_mode": {
    "name": "ipython",
    "version": 3
   },
   "file_extension": ".py",
   "mimetype": "text/x-python",
   "name": "python",
   "nbconvert_exporter": "python",
   "pygments_lexer": "ipython3",
   "version": "3.6.4"
  }
 },
 "nbformat": 4,
 "nbformat_minor": 2
}
