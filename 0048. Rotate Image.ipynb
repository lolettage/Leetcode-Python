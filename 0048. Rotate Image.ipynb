{
 "cells": [
  {
   "cell_type": "markdown",
   "metadata": {},
   "source": [
    "# 48. Rotate Image"
   ]
  },
  {
   "cell_type": "markdown",
   "metadata": {},
   "source": [
    "## Description"
   ]
  },
  {
   "cell_type": "markdown",
   "metadata": {},
   "source": [
    "<br>You are given an n x n 2D matrix representing an image.\n",
    "\n",
    "<br>Rotate the image by 90 degrees (clockwise)."
   ]
  },
  {
   "cell_type": "markdown",
   "metadata": {},
   "source": [
    "### Note"
   ]
  },
  {
   "cell_type": "markdown",
   "metadata": {},
   "source": [
    "<br>You have to rotate the image in-place, which means you have to modify the input 2D matrix directly. DO NOT allocate another 2D matrix and do the rotation."
   ]
  },
  {
   "cell_type": "markdown",
   "metadata": {},
   "source": [
    "### Example 1"
   ]
  },
  {
   "cell_type": "markdown",
   "metadata": {},
   "source": [
    "<br>Given input matrix = \n",
    "<br>[\n",
    "<br>&nbsp;&nbsp;&nbsp;&nbsp;[1,2,3],\n",
    "<br>&nbsp;&nbsp;&nbsp;&nbsp;[4,5,6],\n",
    "<br>&nbsp;&nbsp;&nbsp;&nbsp;[7,8,9]\n",
    "<br>],\n",
    "\n",
    "<br>rotate the input matrix in-place such that it becomes:\n",
    "<br>[\n",
    "<br>&nbsp;&nbsp;&nbsp;&nbsp;[7,4,1],\n",
    "<br>&nbsp;&nbsp;&nbsp;&nbsp;[8,5,2],\n",
    "<br>&nbsp;&nbsp;&nbsp;&nbsp;[9,6,3]\n",
    "<br>]"
   ]
  },
  {
   "cell_type": "markdown",
   "metadata": {},
   "source": [
    "### Example 2"
   ]
  },
  {
   "cell_type": "markdown",
   "metadata": {},
   "source": [
    "<br>Given input matrix =\n",
    "<br>[\n",
    "<br>&nbsp;&nbsp;&nbsp;&nbsp;[ 5, 1, 9,11],\n",
    "<br>&nbsp;&nbsp;&nbsp;&nbsp;[ 2, 4, 8,10],\n",
    "<br>&nbsp;&nbsp;&nbsp;&nbsp;[13, 3, 6, 7],\n",
    "<br>&nbsp;&nbsp;&nbsp;&nbsp;[15,14,12,16]\n",
    "<br>], \n",
    "\n",
    "<br>rotate the input matrix in-place such that it becomes:\n",
    "<br>[\n",
    "<br>&nbsp;&nbsp;&nbsp;&nbsp;[15,13, 2, 5],\n",
    "<br>&nbsp;&nbsp;&nbsp;&nbsp;[14, 3, 4, 1],\n",
    "<br>&nbsp;&nbsp;&nbsp;&nbsp;[12, 6, 8, 9],\n",
    "<br>&nbsp;&nbsp;&nbsp;&nbsp;[16, 7,10,11]\n",
    "<br>]"
   ]
  },
  {
   "cell_type": "code",
   "execution_count": null,
   "metadata": {},
   "outputs": [],
   "source": [
    "class Solution:\n",
    "    def rotate(self, matrix):\n",
    "        \"\"\"\n",
    "        :type matrix: List[List[int]]\n",
    "        :rtype: void Do not return anything, modify matrix in-place instead.\n",
    "        \"\"\"\n",
    "        matrix[:] = list(zip(*matrix[::-1]))"
   ]
  }
 ],
 "metadata": {
  "kernelspec": {
   "display_name": "Python 3",
   "language": "python",
   "name": "python3"
  },
  "language_info": {
   "codemirror_mode": {
    "name": "ipython",
    "version": 3
   },
   "file_extension": ".py",
   "mimetype": "text/x-python",
   "name": "python",
   "nbconvert_exporter": "python",
   "pygments_lexer": "ipython3",
   "version": "3.6.4"
  }
 },
 "nbformat": 4,
 "nbformat_minor": 2
}
