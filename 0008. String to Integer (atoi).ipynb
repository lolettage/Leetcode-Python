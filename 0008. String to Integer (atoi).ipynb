{
 "cells": [
  {
   "cell_type": "markdown",
   "metadata": {},
   "source": [
    "# 8. String to Integer (atoi)"
   ]
  },
  {
   "cell_type": "markdown",
   "metadata": {},
   "source": [
    "## Description"
   ]
  },
  {
   "cell_type": "markdown",
   "metadata": {},
   "source": [
    "<br>Implement atoi which converts a string to an integer.\n",
    "\n",
    "<br>The function first discards as many whitespace characters as necessary until the first non-whitespace character is found. Then, starting from this character, takes an optional initial plus or minus sign followed by as many numerical digits as possible, and interprets them as a numerical value.\n",
    "\n",
    "<br>The string can contain additional characters after those that form the integral number, which are ignored and have no effect on the behavior of this function.\n",
    "\n",
    "<br>If the first sequence of non-whitespace characters in str is not a valid integral number, or if no such sequence exists because either str is empty or it contains only whitespace characters, no conversion is performed.\n",
    "\n",
    "<br>If no valid conversion could be performed, a zero value is returned."
   ]
  },
  {
   "cell_type": "markdown",
   "metadata": {},
   "source": [
    "### Note"
   ]
  },
  {
   "cell_type": "markdown",
   "metadata": {},
   "source": [
    "<br>Only the space character ' ' is considered as whitespace character.\n",
    "<br>Assume we are dealing with an environment which could only store integers within the 32-bit signed integer range: [−2^31,  2^31 − 1]. If the numerical value is out of the range of representable values, INT_MAX (2^31 − 1) or INT_MIN (−2^31) is returned."
   ]
  },
  {
   "cell_type": "markdown",
   "metadata": {},
   "source": [
    "### Example1"
   ]
  },
  {
   "cell_type": "markdown",
   "metadata": {},
   "source": [
    "<br>Input: \"42\"\n",
    "<br>Output: 42"
   ]
  },
  {
   "cell_type": "markdown",
   "metadata": {},
   "source": [
    "### Example2"
   ]
  },
  {
   "cell_type": "markdown",
   "metadata": {},
   "source": [
    "<br>Input: \"&nbsp;&nbsp;&nbsp;&nbsp;&nbsp;&nbsp;-42\"\n",
    "<br>Output: -42\n",
    "<br>Explanation: \n",
    "<br>The first non-whitespace character is '-', which is the minus sign.\n",
    "<br>Then take as many numerical digits as possible, which gets 42."
   ]
  },
  {
   "cell_type": "markdown",
   "metadata": {},
   "source": [
    "### Example3"
   ]
  },
  {
   "cell_type": "markdown",
   "metadata": {},
   "source": [
    "<br>Input: \"4193 with words\"\n",
    "<br>Output: 4193\n",
    "<br>Explanation: Conversion stops at digit '3' as the next character is not a numerical digit."
   ]
  },
  {
   "cell_type": "markdown",
   "metadata": {},
   "source": [
    "### Example4"
   ]
  },
  {
   "cell_type": "markdown",
   "metadata": {},
   "source": [
    "<br>Input: \"words and 987\"\n",
    "<br>Output: 0\n",
    "<br>Explanation: \n",
    "<br>The first non-whitespace character is 'w', which is not a numerical digit or a +/- sign. Therefore no valid conversion could be performed."
   ]
  },
  {
   "cell_type": "markdown",
   "metadata": {},
   "source": [
    "### Example5"
   ]
  },
  {
   "cell_type": "markdown",
   "metadata": {},
   "source": [
    "<br>Input: \"-91283472332\"\n",
    "<br>Output: -2147483648\n",
    "<br>Explanation: \n",
    "<br>The number \"-91283472332\" is out of the range of a 32-bit signed integer.\n",
    "<br>Thefore INT_MIN (−2^31) is returned."
   ]
  },
  {
   "cell_type": "code",
   "execution_count": null,
   "metadata": {},
   "outputs": [],
   "source": [
    "class Solution:\n",
    "    def myAtoi(self, str: str) -> int:\n",
    "        r = [\"0\", \"1\", \"2\", \"3\", \"4\", \"5\", \"6\", \"7\", \"8\", \"9\"]\n",
    "        str = str.lstrip()\n",
    "        mins = - 2 ** 31\n",
    "        maxs = 2 ** 31 - 1\n",
    "        t = \"\"\n",
    "        i = 0\n",
    "        while i < len(str):\n",
    "            if str[i] in r:\n",
    "                t = t + str[i]\n",
    "                i = i + 1\n",
    "            elif str[i] == \"-\" or str[i] == \"+\":\n",
    "                if len(t) == 0:\n",
    "                    t = t + str[i]\n",
    "                    i = i + 1\n",
    "                else:\n",
    "                    i = len(str)\n",
    "            else:\n",
    "                i = len(str)\n",
    "        if len(t) == 0:\n",
    "            return 0\n",
    "        elif t[0] == \"-\":\n",
    "            if len(t) == 1:\n",
    "                return 0\n",
    "            elif int(t) < mins:\n",
    "                return mins\n",
    "            else:\n",
    "                return int(t)\n",
    "        else:\n",
    "            if len(t) == 1 and t[0] == \"+\":\n",
    "                return 0\n",
    "            if int(t) > maxs:\n",
    "                return maxs\n",
    "            else:\n",
    "                return int(t)"
   ]
  },
  {
   "cell_type": "code",
   "execution_count": null,
   "metadata": {},
   "outputs": [],
   "source": [
    "class Solution:\n",
    "    def myAtoi(self, str: str) -> int:\n",
    "        a = re.findall(r'^[-+]?\\d+', str.strip())  # 正则为：+或-开头出现0或1次，后面为1或多位数字\n",
    "        if not a:\n",
    "            return 0\n",
    "        a = int(a[0])\n",
    "        b = 2**31\n",
    "        if a > b-1:\n",
    "            return b-1\n",
    "        elif a < -b:\n",
    "            return -b\n",
    "        else:\n",
    "            return a"
   ]
  }
 ],
 "metadata": {
  "kernelspec": {
   "display_name": "Python 3",
   "language": "python",
   "name": "python3"
  },
  "language_info": {
   "codemirror_mode": {
    "name": "ipython",
    "version": 3
   },
   "file_extension": ".py",
   "mimetype": "text/x-python",
   "name": "python",
   "nbconvert_exporter": "python",
   "pygments_lexer": "ipython3",
   "version": "3.6.4"
  }
 },
 "nbformat": 4,
 "nbformat_minor": 2
}
