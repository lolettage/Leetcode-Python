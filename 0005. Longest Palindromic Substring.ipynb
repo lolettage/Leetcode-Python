{
 "cells": [
  {
   "cell_type": "markdown",
   "metadata": {},
   "source": [
    "# 5. Longest Palindromic Substring"
   ]
  },
  {
   "cell_type": "markdown",
   "metadata": {},
   "source": [
    "## Description"
   ]
  },
  {
   "cell_type": "markdown",
   "metadata": {},
   "source": [
    "<br>Given a string s, find the longest palindromic substring in s. You may assume that the maximum length of s is 1000."
   ]
  },
  {
   "cell_type": "markdown",
   "metadata": {},
   "source": [
    "### Example1"
   ]
  },
  {
   "cell_type": "markdown",
   "metadata": {},
   "source": [
    "<br>Input: \"babad\"\n",
    "<br>Output: \"bab\"\n",
    "<br>Note: \"aba\" is also a valid answer."
   ]
  },
  {
   "cell_type": "markdown",
   "metadata": {},
   "source": [
    "### Example2"
   ]
  },
  {
   "cell_type": "markdown",
   "metadata": {},
   "source": [
    "<br>Input: \"cbbd\"\n",
    "<br>Output: \"bb\""
   ]
  },
  {
   "cell_type": "code",
   "execution_count": null,
   "metadata": {},
   "outputs": [],
   "source": [
    "class Solution:\n",
    "    def longestPalindrome(self, s: str) -> str:\n",
    "        if len(s) < 2 or s == s[::-1]:\n",
    "            return s\n",
    "        n = len(s)\n",
    "        start , maxlen = 0, 0\n",
    "        for i in range(n):\n",
    "            if i - maxlen >= 1 and s[i - maxlen - 1: i + 1] == s[i - maxlen - 1: i + 1][::-1]:\n",
    "                start = i - maxlen - 1\n",
    "                maxlen = maxlen + 2\n",
    "            if i - maxlen >= 0 and s[i - maxlen: i+1] == s[i - maxlen: i+1][::-1]:\n",
    "                start = i - maxlen\n",
    "                maxlen = maxlen + 1\n",
    "\n",
    "        return s[start: start + maxlen]"
   ]
  }
 ],
 "metadata": {
  "kernelspec": {
   "display_name": "Python 3",
   "language": "python",
   "name": "python3"
  },
  "language_info": {
   "codemirror_mode": {
    "name": "ipython",
    "version": 3
   },
   "file_extension": ".py",
   "mimetype": "text/x-python",
   "name": "python",
   "nbconvert_exporter": "python",
   "pygments_lexer": "ipython3",
   "version": "3.6.4"
  }
 },
 "nbformat": 4,
 "nbformat_minor": 2
}
