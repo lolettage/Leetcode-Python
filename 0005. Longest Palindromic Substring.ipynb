{
 "cells": [
  {
   "cell_type": "markdown",
   "metadata": {},
   "source": [
    "# 5. Longest Palindromic Substring\n",
    "\n",
    "## Description\n",
    "\n",
    ">Given a string **s**, find the longest palindromic substring in **s**. You may assume that the maximum length of **s** is 1000.\n",
    "\n",
    "### Example 1\n",
    "\n",
    ">Input: \"babad\"  \n",
    "Output: \"bab\"  \n",
    "Note: \"aba\" is also a valid answer.  \n",
    "\n",
    "### Example 2\n",
    "\n",
    ">Input: \"cbbd\"  \n",
    "Output: \"bb\"  "
   ]
  },
  {
   "cell_type": "code",
   "execution_count": null,
   "metadata": {},
   "outputs": [],
   "source": [
    "class Solution:\n",
    "    def longestPalindrome(self, s: str) -> str:\n",
    "        if len(s) < 2 or s == s[::-1]:\n",
    "            return s\n",
    "        n = len(s)\n",
    "        start , maxlen = 0, 0\n",
    "        for i in range(n):\n",
    "            if i - maxlen >= 1 and s[i - maxlen - 1: i + 1] == s[i - maxlen - 1: i + 1][::-1]:\n",
    "                start = i - maxlen - 1\n",
    "                maxlen = maxlen + 2\n",
    "            if i - maxlen >= 0 and s[i - maxlen: i+1] == s[i - maxlen: i+1][::-1]:\n",
    "                start = i - maxlen\n",
    "                maxlen = maxlen + 1\n",
    "\n",
    "        return s[start: start + maxlen]"
   ]
  }
 ],
 "metadata": {
  "kernelspec": {
   "display_name": "Python 3",
   "language": "python",
   "name": "python3"
  },
  "language_info": {
   "codemirror_mode": {
    "name": "ipython",
    "version": 3
   },
   "file_extension": ".py",
   "mimetype": "text/x-python",
   "name": "python",
   "nbconvert_exporter": "python",
   "pygments_lexer": "ipython3",
   "version": "3.6.4"
  }
 },
 "nbformat": 4,
 "nbformat_minor": 2
}
