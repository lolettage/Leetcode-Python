{
 "cells": [
  {
   "cell_type": "markdown",
   "metadata": {},
   "source": [
    "# 6. ZigZag Conversion"
   ]
  },
  {
   "cell_type": "markdown",
   "metadata": {},
   "source": [
    "## Description"
   ]
  },
  {
   "cell_type": "markdown",
   "metadata": {},
   "source": [
    "<br>The string \"PAYPALISHIRING\" is written in a zigzag pattern on a given number of rows like this: (you may want to display this pattern in a fixed font for better legibility)"
   ]
  },
  {
   "cell_type": "markdown",
   "metadata": {},
   "source": [
    "<br>P&nbsp;&nbsp;&nbsp;&nbsp;&nbsp;&nbsp;A&nbsp;&nbsp;&nbsp;&nbsp;&nbsp;&nbsp;H&nbsp;&nbsp;&nbsp;&nbsp;&nbsp;&nbsp;N\n",
    "<br>A&nbsp;&nbsp;P&nbsp;&nbsp;L&nbsp;&nbsp;S&nbsp;&nbsp;&nbsp;I&nbsp;&nbsp;&nbsp;I&nbsp;&nbsp;G\n",
    "<br>Y&nbsp;&nbsp;&nbsp;&nbsp;&nbsp;&nbsp;&nbsp;I&nbsp;&nbsp;&nbsp;&nbsp;&nbsp;&nbsp;&nbsp;R"
   ]
  },
  {
   "cell_type": "markdown",
   "metadata": {},
   "source": [
    "<br>And then read line by line: \"PAHNAPLSIIGYIR\"\n",
    "\n",
    "<br>Write the code that will take a string and make this conversion given a number of rows:\n",
    "\n",
    "<br>string convert(string s, int numRows);"
   ]
  },
  {
   "cell_type": "markdown",
   "metadata": {},
   "source": [
    "### Example1"
   ]
  },
  {
   "cell_type": "markdown",
   "metadata": {},
   "source": [
    "<br>Input: s = \"PAYPALISHIRING\", numRows = 3\n",
    "<br>Output: \"PAHNAPLSIIGYIR\""
   ]
  },
  {
   "cell_type": "markdown",
   "metadata": {},
   "source": [
    "### Example2"
   ]
  },
  {
   "cell_type": "markdown",
   "metadata": {},
   "source": [
    "<br>Input: s = \"PAYPALISHIRING\", numRows = 4\n",
    "<br>Output: \"PINALSIGYAHRPI\"\n",
    "<br>Explanation:\n",
    "\n",
    "<br>P&nbsp;&nbsp;&nbsp;&nbsp;&nbsp;&nbsp;&nbsp;&nbsp;&nbsp;&nbsp;I&nbsp;&nbsp;&nbsp;&nbsp;&nbsp;&nbsp;&nbsp;&nbsp;&nbsp;&nbsp;N\n",
    "<br>A&nbsp;&nbsp;&nbsp;&nbsp;&nbsp;&nbsp;L&nbsp;&nbsp;S&nbsp;&nbsp;&nbsp;&nbsp;&nbsp;&nbsp;I&nbsp;&nbsp;G\n",
    "<br>Y&nbsp;&nbsp;A&nbsp;&nbsp;&nbsp;&nbsp;&nbsp;&nbsp;H&nbsp;&nbsp;R\n",
    "<br>P&nbsp;&nbsp;&nbsp;&nbsp;&nbsp;&nbsp;&nbsp;&nbsp;&nbsp;&nbsp;I"
   ]
  },
  {
   "cell_type": "code",
   "execution_count": null,
   "metadata": {},
   "outputs": [],
   "source": [
    "class Solution:\n",
    "    def convert(self, s: str, numRows: int) -> str:\n",
    "        bb = \"\"\n",
    "        if len(s) <= 2 or numRows == 1:\n",
    "            return s\n",
    "        else:\n",
    "            t = []\n",
    "            zz = 2 * numRows - 2\n",
    "            i = 1\n",
    "            while i <= len(s):\n",
    "                t.append(s[i - 1: i + zz - 1])\n",
    "                i = i + zz\n",
    "            if len(t[-1]) < zz:\n",
    "                t[-1] = t[-1] + (zz - len(t[-1])) * '*'\n",
    "            j = 0\n",
    "            while j <= numRows - 1:\n",
    "                for r in range(len(t)):\n",
    "                    if j == 0 or j == numRows - 1:\n",
    "                        bb = bb + t[r][j]\n",
    "                    else:\n",
    "                        bb = bb + t[r][j] + t[r][-j]\n",
    "                j =  j + 1\n",
    "            bb = bb.replace(\"*\", \"\")\n",
    "        return bb"
   ]
  },
  {
   "cell_type": "code",
   "execution_count": null,
   "metadata": {},
   "outputs": [],
   "source": [
    "class Solution:\n",
    "    def convert(self, s: str, numRows: int) -> str:\n",
    "#       Time Limit Exceeded\n",
    "        bb = \"\"\n",
    "        if len(s) <= 2 or numRows == 1:\n",
    "            return s\n",
    "        else:\n",
    "            zz = 2 * numRows - 2\n",
    "            for j in range(1, numRows + 1):\n",
    "                if j == 1:\n",
    "                    for i in range(1, len(s) + 1):\n",
    "                        if (i - j) % zz == 0 or (i - zz + j - 2) % zz == 0:\n",
    "                            bb = bb + s[i - 1]\n",
    "                            s = s[:i - 1] + '*' + s[i:]\n",
    "                    s = s.replace('*','')\n",
    "                elif j == numRows:\n",
    "                    bb = bb + s\n",
    "                else:\n",
    "                    for i in range(1, len(s) + 1):\n",
    "                        if (i - 1 + zz - 2 * j + 3) % (zz - 2 * j + 3) == 0 or (i + zz - 2 * j + 3) % (zz - 2 * j + 3) == 0:\n",
    "                            bb = bb + s[i - 1]\n",
    "                            s = s[:i - 1] + '*' + s[i:]\n",
    "                    s = s.replace('*','')\n",
    "        return bb"
   ]
  },
  {
   "cell_type": "code",
   "execution_count": null,
   "metadata": {},
   "outputs": [],
   "source": [
    "class Solution:\n",
    "    def convert(self, s: str, numRows: int) -> str:\n",
    "        if numRows == 1:\n",
    "            return s\n",
    "        ret = [''] * numRows\n",
    "        grp = 2 * numRows - 2\n",
    "        for i, c in enumerate(s):\n",
    "            curr = i % grp\n",
    "            if curr < numRows:\n",
    "                ret[curr] += c\n",
    "            else:\n",
    "                ret[grp - curr] += c\n",
    "\n",
    "        return ''.join(ret)"
   ]
  }
 ],
 "metadata": {
  "kernelspec": {
   "display_name": "Python 3",
   "language": "python",
   "name": "python3"
  },
  "language_info": {
   "codemirror_mode": {
    "name": "ipython",
    "version": 3
   },
   "file_extension": ".py",
   "mimetype": "text/x-python",
   "name": "python",
   "nbconvert_exporter": "python",
   "pygments_lexer": "ipython3",
   "version": "3.6.4"
  }
 },
 "nbformat": 4,
 "nbformat_minor": 2
}
